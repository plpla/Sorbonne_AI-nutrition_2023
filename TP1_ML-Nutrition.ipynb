{
 "cells": [
  {
   "cell_type": "markdown",
   "id": "d5a115a4-0187-4510-a94f-00e4874db5bc",
   "metadata": {},
   "source": [
    "# TP1 - Utilisation de l'apprentissage automatique en nutrition: notions de base #\n",
    "------------------\n",
    "Dans ce TP, nous allons tenter de vous donner les outils et les connaissances nécessaires au bon déroulement de cette école d'été.\n",
    "Nous allons explorer les possibilités offertes par nos outils technologiques (Python, Jupyter et autres librairies) en plus de débuter dans le merveilleux monde de l'apprentissage automatique.\n"
   ]
  },
  {
   "cell_type": "markdown",
   "id": "92e4ba09-122d-4798-ae4e-6fad8e3ca7f0",
   "metadata": {
    "tags": []
   },
   "source": [
    "# Jupyter et python #\n",
    "Durant cette semaine de TP, nous allons utiliser le langage Python et l'interface Jupyter Lab. L'avantage de Jupyter est qu'il permet de travailler de façon intéractive. On peut écrire du code dans une cellule puis l'exécuter. Si une sortie est demandée, elle sera affichée sous la cellule.\n"
   ]
  },
  {
   "cell_type": "markdown",
   "id": "65ef923a-4dc5-4d7b-abc9-62975f5acbcd",
   "metadata": {},
   "source": [
    "L'interface Jupyter permet d'écrire du code et d'obtenir rapidement le résultat."
   ]
  },
  {
   "cell_type": "code",
   "execution_count": null,
   "id": "4e32d642-398d-42dc-a339-2bc799ea39c1",
   "metadata": {
    "tags": []
   },
   "outputs": [],
   "source": [
    "#Python peut servir de calculatrice\n",
    "1+1"
   ]
  },
  {
   "cell_type": "code",
   "execution_count": null,
   "id": "484242d3-c11b-468d-94e6-40af28bfbc9f",
   "metadata": {
    "tags": []
   },
   "outputs": [],
   "source": [
    "#On peut afficher du texte\n",
    "print(\"La fonction print() est super pratique pour afficher du texte\")"
   ]
  },
  {
   "cell_type": "code",
   "execution_count": null,
   "id": "dd4960e5-c502-48b4-b91c-1390a45b86fd",
   "metadata": {
    "tags": []
   },
   "outputs": [],
   "source": [
    "# Jupyter peut aussi afficher des graphiques produits avec la librairie Matplotlib\n",
    "\n",
    "import matplotlib.pyplot as plt\n",
    "\n",
    "x = [1, 2, 3, 4, 9]\n",
    "y= [4, 10, 9, 3, 4]\n",
    "\n",
    "fig, ax = plt.subplots()\n",
    "ax.plot(x, y, linewidth=2.0)"
   ]
  },
  {
   "cell_type": "code",
   "execution_count": null,
   "id": "23c6b8c1-21c4-4382-9e77-53183af880e3",
   "metadata": {
    "tags": []
   },
   "outputs": [],
   "source": [
    "# Il y a également d'autres librairies permetant de faire des graphiques, dits intéractifs. Voici un exemple avec Plotly.\n",
    "import plotly.express as px\n",
    "fig = px.scatter(x = [1, 2, 3, 4, 9], y= [4, 10, 9, 3, 4], title=\"Exemple de graphique intéractif\", width=600, height=600)\n",
    "fig.update_traces(marker=dict(size=20))\n",
    "fig.update_layout(title_x=0.5)\n",
    "fig.show()\n",
    "# Vous pouvez essayer de passer votre curseur sur un point ou de sélectionner une région du graphique avec la souris. Quelques fonctionnalités sont disponibles dans le coin supérieur droit de la zone graphique."
   ]
  },
  {
   "cell_type": "markdown",
   "id": "a5b05fd8-f9b0-4eec-85e2-2849b5769ef8",
   "metadata": {},
   "source": [
    "La librairie plotly est assez complète. Plusieurs exemples de code sont disponibles: https://plotly.com/python/.\n",
    "\n",
    "On peut aller chercher de l'aide sur les différentes commandes et fonctions, directement dans l'interpréteur en ajoutant un ``?`` à une fonction. Voici un exemple:"
   ]
  },
  {
   "cell_type": "code",
   "execution_count": null,
   "id": "30178eea-50f3-4b91-8c9e-bc0b6f2e8107",
   "metadata": {},
   "outputs": [],
   "source": [
    "px.scatter?"
   ]
  },
  {
   "cell_type": "markdown",
   "id": "9263ffae-4c5a-4ebd-a184-7981d70388ce",
   "metadata": {},
   "source": [
    "Jupyter a certaines commandes spéciales, appelée \"magic\". Ici, le ``!`` permet d'intéragir avec un terminal.\n",
    "La liste complète des commandes \"magic\" est ici: https://ipython.readthedocs.io/en/stable/interactive/magics.html"
   ]
  },
  {
   "cell_type": "code",
   "execution_count": null,
   "id": "3f5e727a-8176-43ef-b87a-4b5d0329befc",
   "metadata": {},
   "outputs": [],
   "source": [
    "!date\n",
    "!ls"
   ]
  },
  {
   "cell_type": "markdown",
   "id": "8859b50c-eed7-4b3f-9b8a-46628fca24ff",
   "metadata": {},
   "source": [
    "# Exercices\n",
    "Reprenez le code de la figure prédécente (copié ci-bas) et ajoutez au graphique une ligne reliant les points."
   ]
  },
  {
   "cell_type": "code",
   "execution_count": null,
   "id": "233c8cb3-35a3-4382-81c2-07858fdc4193",
   "metadata": {},
   "outputs": [],
   "source": [
    "fig = px.scatter(x = [1, 2, 3, 4, 9], y= [4, 10, 9, 3, 4], title=\"Exercice supplémentaire\", width=600, height=600)\n",
    "fig.update_traces(marker=dict(size=20))\n",
    "fig.update_layout(title_x=0.5)\n",
    "fig.show()"
   ]
  },
  {
   "cell_type": "markdown",
   "id": "bcdea5c7-a0f4-4de2-9cae-a95c2fafd298",
   "metadata": {},
   "source": [
    "Exercice supplémentaire #2\n",
    "\n",
    "Reprenez le graphique précédent. Coloriez les points en vert et la ligne en rouge.\n",
    "\n",
    "\n",
    "\n",
    "\n"
   ]
  },
  {
   "cell_type": "code",
   "execution_count": null,
   "id": "13956069-3d74-4bb9-a1d6-dbd44ac17b41",
   "metadata": {},
   "outputs": [],
   "source": []
  },
  {
   "cell_type": "markdown",
   "id": "38684edf-b648-43c3-aba1-8e63f31ff03b",
   "metadata": {},
   "source": [
    "Exercice supplémentaire #3\n",
    "\n",
    "Reproduisez le graphique précédent créé avec Plotly mais cette fois avec Matplotlib."
   ]
  },
  {
   "cell_type": "code",
   "execution_count": null,
   "id": "eadf8051-07c8-49a0-98cd-82369bba03db",
   "metadata": {},
   "outputs": [],
   "source": []
  },
  {
   "cell_type": "markdown",
   "id": "27108fe8-e200-483a-aa0a-4d42423e8e9d",
   "metadata": {},
   "source": [
    "# On attend le reste du groupe #\n",
    "----------------------------------------"
   ]
  },
  {
   "cell_type": "markdown",
   "id": "057f8315-44c7-46b4-a262-8f8a1a49cb5a",
   "metadata": {
    "tags": []
   },
   "source": [
    "# Pandas pour les données tabulées #\n",
    "Toute analyse commence par un point de départ: les données!\n",
    "Elles peuvent se trouver sous différentes formes (base de données, tableaux, web, etc). Dans le TP d'aujourd'hui nous allons travailler avec des données structurées sous forme de tableau.\n",
    "La librairie pandas permet d'ouvrir des fichiers de données structurées sous forme de tableau et de les garder en mémoire. "
   ]
  },
  {
   "cell_type": "code",
   "execution_count": null,
   "id": "f246cc50-87f6-4f94-b377-e749f537e0ac",
   "metadata": {},
   "outputs": [],
   "source": [
    "# On importe la librairie et on ouvre le fichier Excel contenant nos données. \n",
    "import pandas as pd\n",
    "metabo_df = pd.read_excel(\"Data/Metabolomic_diet.xlsx\", header=0, index_col=0)"
   ]
  },
  {
   "cell_type": "markdown",
   "id": "120d9471-24fc-4015-a30c-fb072144e27d",
   "metadata": {
    "tags": []
   },
   "source": [
    "Dans la cellule précédente, que font les paramètres header et index_col?"
   ]
  },
  {
   "cell_type": "raw",
   "id": "7692a1de-283c-47e0-b5c1-163f5feb5212",
   "metadata": {},
   "source": []
  },
  {
   "cell_type": "code",
   "execution_count": null,
   "id": "f452ac33-aa98-42ce-b584-9f3d2d81f520",
   "metadata": {
    "tags": []
   },
   "outputs": [],
   "source": [
    "#La fonction head() permet d'avoir un apperçu du tableau de données (5 premières lignes par défaut).\n",
    "metabo_df.head()"
   ]
  },
  {
   "cell_type": "markdown",
   "id": "c31cbe04-fa29-4dc3-a695-c29198a249bf",
   "metadata": {
    "tags": []
   },
   "source": [
    "Quelle est la dimension de notre jeu de données? Est-ce que nous avons assez de données? Pouvons-nous espérer à produire de bons modèles?"
   ]
  },
  {
   "cell_type": "raw",
   "id": "be5084da-7385-4a82-905a-c40544b99614",
   "metadata": {},
   "source": []
  },
  {
   "cell_type": "markdown",
   "id": "b9681bae-54af-4ae5-920f-90bd3e955974",
   "metadata": {},
   "source": [
    "Durant la semaine, nous allons principalement nous concentrer sur l'apprentissage supervisé. C'est à dire que nous connaissons dès le départ les classes ou les valeurs à prédire pour un ensemble de données. Ces données sont étiquetéesé. On cherche donc à construire des modèles pouvant prédire ces valeurs pour de nouvelles données que l'algorithme n'aura jamais vu.\n",
    "\n",
    "\n",
    "Notre tableau de données contient beaucoup d'information mais pas les classes correspondantes à chaque échantillon. Cette information est dans un autre fichier. Allons le récupérer!"
   ]
  },
  {
   "cell_type": "code",
   "execution_count": null,
   "id": "d15876a1-0a1f-4ae2-ac6e-3467ca759472",
   "metadata": {
    "tags": []
   },
   "outputs": [],
   "source": [
    "# Complétez cette commande afin de bien charger le tableau de métadonnées en utilisant la colonne Sample comme index.\n",
    "metadata_df = pd.read_csv(\"Data/Metadata_diet.csv\")"
   ]
  },
  {
   "cell_type": "code",
   "execution_count": null,
   "id": "0ce0e249-9a9a-4e7d-a2fd-9840754403bb",
   "metadata": {
    "tags": []
   },
   "outputs": [],
   "source": [
    "# Réponse:\n"
   ]
  },
  {
   "cell_type": "code",
   "execution_count": null,
   "id": "93909dec-9cad-43e0-97e0-acded79d35f8",
   "metadata": {
    "tags": []
   },
   "outputs": [],
   "source": [
    "#Pour valider votre réponse\n",
    "metadata_df.head()"
   ]
  },
  {
   "cell_type": "markdown",
   "id": "86c883f2-b193-42a9-9406-5bdd077c4553",
   "metadata": {},
   "source": [
    "Pour que l'information corresponde entre les 2 tableaux, nous allons tout joindre ensemble dans le même tableau, en utilisant le nom d'échantillon pour la jointure. "
   ]
  },
  {
   "cell_type": "code",
   "execution_count": null,
   "id": "a13e3b72-b5f2-42e2-bd1d-d73ab9d9a008",
   "metadata": {
    "tags": []
   },
   "outputs": [],
   "source": [
    "metabo_df = metabo_df.transpose()\n",
    "metabo_df.head()\n",
    "data_merged = pd.concat([metabo_df, metadata_df], axis=1)\n",
    "data_merged.head()\n"
   ]
  },
  {
   "cell_type": "code",
   "execution_count": null,
   "id": "297d1f4e-8fb2-4bd9-809d-e0d048f84d7c",
   "metadata": {
    "tags": []
   },
   "outputs": [],
   "source": [
    "data_merged.shape"
   ]
  },
  {
   "cell_type": "markdown",
   "id": "37962c46-bacb-46f5-8ec0-f99a852b2758",
   "metadata": {},
   "source": [
    " "
   ]
  },
  {
   "cell_type": "markdown",
   "id": "6ce04cb8-57f7-4ced-a203-228a3968ba87",
   "metadata": {},
   "source": [
    "# On attend le reste du groupe #\n",
    "----------------------------------------"
   ]
  },
  {
   "cell_type": "markdown",
   "id": "7ee5140a-fe49-4060-b809-fa1fd5cfb3fa",
   "metadata": {
    "tags": []
   },
   "source": [
    "# Scikit learn pour l'apprentissage automatique #"
   ]
  },
  {
   "cell_type": "code",
   "execution_count": null,
   "id": "f7a68540-bed4-4d26-87b4-d225c2a9bc45",
   "metadata": {
    "tags": []
   },
   "outputs": [],
   "source": [
    "# Import des fonctions nécessaires dans scikit-learn\n",
    "import numpy as np\n",
    "from sklearn.model_selection import train_test_split\n",
    "from sklearn.tree import DecisionTreeClassifier, plot_tree\n",
    "from sklearn.ensemble import RandomForestClassifier\n",
    "from sklearn.metrics import accuracy_score, f1_score, balanced_accuracy_score, roc_auc_score, confusion_matrix, ConfusionMatrixDisplay"
   ]
  },
  {
   "cell_type": "markdown",
   "id": "c20d31b2-f87f-433b-819c-d4ded620f324",
   "metadata": {},
   "source": [
    "Nous avons notre premier jeu de données, prêt à être employé pour de l'apprentissage automatique. La première étape est de séparer notre jeu de données entre un ensemble d'entrainement et un ensemble de test. La librairie Scikit-learn contient une fonction pour faire cela."
   ]
  },
  {
   "cell_type": "code",
   "execution_count": null,
   "id": "9578dfeb-070b-41ec-827a-bab4dc782c03",
   "metadata": {
    "tags": []
   },
   "outputs": [],
   "source": [
    "x_train, x_test, y_train, y_test = train_test_split(data_merged.drop(\"Diet\", axis=1), data_merged[\"Diet\"], test_size=0.2) #On garde 20% du jeu de données en test\n",
    "print(\"La forme de notre ensemble d'entraînement: %s x %s\" %(x_train.shape))\n",
    "print(\"Le nombre d'étiquettes dans notre ensemble d'entrainement %s\" %y_train.shape)\n",
    "print(\"La forme de notre ensemble de test: %s x %s\" %(x_test.shape))\n",
    "print(\"Le nombre d'étiquettes dans notre ensemble de test %s\" %y_test.shape)"
   ]
  },
  {
   "cell_type": "markdown",
   "id": "6e437d66-e3b0-4fe9-8ae6-01213acc1928",
   "metadata": {
    "tags": []
   },
   "source": [
    "Débutons avec un arbre de décision. Notre objectif est de prédire la diète à partir du profil métabolique."
   ]
  },
  {
   "cell_type": "code",
   "execution_count": null,
   "id": "183e28f1-dbb2-482e-afd1-45aeec305461",
   "metadata": {
    "tags": []
   },
   "outputs": [],
   "source": [
    "dt = DecisionTreeClassifier() # On initie un modèle\n",
    "dt = dt.fit(X=x_train, y=y_train) # On entraine le modèle en lui donnant les données d'entraînement, y compris les classes correspondantes."
   ]
  },
  {
   "cell_type": "markdown",
   "id": "bb1ba2b3-2edd-4f2e-94e9-4dc293d78382",
   "metadata": {
    "tags": []
   },
   "source": [
    "Maintenant que nous avons un modèle entrainer, il faut aller évaluer s'il performe bien. Pour cela, nous pouvons utiliser notre ensemble de test."
   ]
  },
  {
   "cell_type": "code",
   "execution_count": null,
   "id": "913f679f-6c5e-4527-9eeb-e975c12c6b7e",
   "metadata": {
    "tags": []
   },
   "outputs": [],
   "source": [
    "dt_predictions = dt.predict(x_test)\n",
    "print(dt_predictions)"
   ]
  },
  {
   "cell_type": "markdown",
   "id": "4673b176-adce-4b56-993c-fca4f0f61dfe",
   "metadata": {},
   "source": [
    "Pour évaluer les performances du modèle, on peut utiliser différentes métriques. Pour débuter, nous allons utiliser la matrice de confusion. \n",
    "\n",
    "La matrice de confusion permet de voir les prédictions et les valeurs de références dans le même tableau. On peut donc rapidement voir les taux de faux posifs et faux négatifs en plus du taux de bonnes classifications pour chaque classe."
   ]
  },
  {
   "cell_type": "code",
   "execution_count": null,
   "id": "f2243e3a-a5bc-4903-abf0-3641bbb5332b",
   "metadata": {
    "tags": []
   },
   "outputs": [],
   "source": [
    "ConfusionMatrixDisplay.from_predictions(y_test, dt_predictions)"
   ]
  },
  {
   "cell_type": "code",
   "execution_count": null,
   "id": "29a6f78b-fdf6-4f7f-8644-b97b787a679b",
   "metadata": {
    "tags": []
   },
   "outputs": [],
   "source": []
  },
  {
   "cell_type": "markdown",
   "id": "f3001101-cd32-40a7-9a31-b3367d3259ae",
   "metadata": {
    "tags": []
   },
   "source": [
    "En fonction de ces résultats, qu'est-ce qu'on peut conclure?\n",
    "\n",
    "Les prédictions sont parfaites mais on a 4 classes alors que l'on cherche à prédire deux diètes. Allons corriger les étiquettes et ré-entrainer un modèle."
   ]
  },
  {
   "cell_type": "code",
   "execution_count": null,
   "id": "e7c7ad75-5d40-410b-987b-64ebda5f201a",
   "metadata": {
    "tags": []
   },
   "outputs": [],
   "source": [
    "diet_converter = {i:\"Mediterranean\" if i[-1]==\"B\" else \"North-American\" for i in set(data_merged[\"Diet\"])} #On crée un convertisseur\n",
    "data_merged[\"Diet\"]=[diet_converter[i] for i in data_merged[\"Diet\"]] # On l'applique sur la colonne Diet de notre tableau."
   ]
  },
  {
   "cell_type": "markdown",
   "id": "bdf24105-da73-4115-ad6a-1270eafdcb85",
   "metadata": {
    "tags": []
   },
   "source": [
    "# Exercice\n",
    "Entrainez un arbre de decision en utilisant le jeu de données modifié puis évaluez ses performances avec la matrice de confusion et la précision (accuracy)."
   ]
  },
  {
   "cell_type": "code",
   "execution_count": null,
   "id": "c6e0f478-71cf-4c84-bd0c-a1ab9dd295e9",
   "metadata": {
    "tags": []
   },
   "outputs": [],
   "source": [
    "#Écrire le code dans les cellules ci-bas. Ajoutez des cellules au besoin.\n",
    "\n"
   ]
  },
  {
   "cell_type": "code",
   "execution_count": null,
   "id": "4cc91661-4317-43ea-86fc-2d3e1cdbe70d",
   "metadata": {},
   "outputs": [],
   "source": [
    "\n",
    "\n"
   ]
  },
  {
   "cell_type": "code",
   "execution_count": null,
   "id": "f4243a54-0d0b-49e8-97d7-d32338cbf438",
   "metadata": {
    "tags": []
   },
   "outputs": [],
   "source": [
    "#Réponse:\n",
    "x_train, x_test, y_train, y_test = train_test_split(data_merged.drop(\"Diet\", axis=1), data_merged[\"Diet\"], test_size=0.2)\n",
    "dt = DecisionTreeClassifier() # On initie un modèle\n",
    "dt = dt.fit(X=x_train, y=y_train)\n",
    "dt_predictions = dt.predict(x_test)\n",
    "print(\"Matrice de confusion:\")\n",
    "print(confusion_matrix(y_true=y_test, y_pred=dt_predictions))\n",
    "print(\"Accuracy score: %s\" %accuracy_score(y_true=y_test, y_pred=dt_predictions))"
   ]
  },
  {
   "cell_type": "markdown",
   "id": "3c93b738-931c-4112-bd85-cc3464982b34",
   "metadata": {},
   "source": [
    "Qu'est-ce que vous pensez des résultats?"
   ]
  },
  {
   "cell_type": "raw",
   "id": "8876e94e-6f0c-4629-ad4c-e6bf7317e6f7",
   "metadata": {
    "tags": []
   },
   "source": [
    "Réponse:\n"
   ]
  },
  {
   "cell_type": "code",
   "execution_count": null,
   "id": "2fa545a6-6260-45b0-bd41-7d07eb4ce41f",
   "metadata": {
    "tags": []
   },
   "outputs": [],
   "source": [
    "#Allons voir la structure de l'arbre qui nous donne ces performances incroyables.\n",
    "plot_tree(dt)"
   ]
  },
  {
   "cell_type": "markdown",
   "id": "192a64e0-bf29-45ec-a2ce-7085047a47f1",
   "metadata": {},
   "source": [
    "Les performances sont obtenues à partir d'un seul élément de notre tableau: l'élément 6004. Quel est cet élément?"
   ]
  },
  {
   "cell_type": "code",
   "execution_count": null,
   "id": "351b757e-0914-4818-bc09-54867df7285e",
   "metadata": {
    "tags": []
   },
   "outputs": [],
   "source": [
    "data_merged.columns[6004]"
   ]
  },
  {
   "cell_type": "markdown",
   "id": "f0c38c28-a20c-47b7-aec0-9dfa9eeedcab",
   "metadata": {},
   "source": [
    "Dans notre tableau de données, nous avons un élément correspondant au numéro de la visite à la clinique par chaque sujet pour la collecte d'échantillon. C'est un élément qui est parfaitement corrélé au type de diète consommé par nos sujets (voir le design expérimental). Nous avons donc indirectement donné la bonne réponse à notre algorithme à partir de notre jeu de données. La fuite de données (data leakage) est une erreure courrante en apprentissage automatique et entraine des performances artificiellement gonflées.\n",
    "\n",
    "Allons enlever cette colonne et ré-entrainons un modèle!"
   ]
  },
  {
   "cell_type": "code",
   "execution_count": null,
   "id": "b74e411d-4348-4554-baea-86f19e4bfe10",
   "metadata": {
    "tags": []
   },
   "outputs": [],
   "source": [
    "x_train, x_test, y_train, y_test = train_test_split(data_merged.drop([\"Diet\", \"Visit\"], axis=1), data_merged[\"Diet\"], test_size=0.2)\n",
    "dt = DecisionTreeClassifier() # On initie un modèle\n",
    "dt = dt.fit(X=x_train, y=y_train)\n",
    "dt_predictions = dt.predict(x_test)\n",
    "print(\"Accuracy score: %s\" %accuracy_score(y_true=y_test, y_pred=dt_predictions))\n",
    "ConfusionMatrixDisplay.from_predictions(y_test, dt_predictions)"
   ]
  },
  {
   "cell_type": "markdown",
   "id": "8ce8cefb-6598-434f-80de-05b39becd5a5",
   "metadata": {},
   "source": [
    "Les performances obtenues ici sont beaucoup plus raisonnables. On prédit la diète correctement dans la grande majorité des cas (normalement autour de 90%)."
   ]
  },
  {
   "cell_type": "markdown",
   "id": "81c6fff0-f40f-4d2d-92c2-7564d2c5948b",
   "metadata": {
    "tags": []
   },
   "source": [
    "Si on revient à notre devis expérimental, nous avons deux études où chaque sujet a consommé les deux diètes. Une règle en intelligence artificielle est d'utiliser des données indépendantes entre l'ensemble d'entraînement et de test. Puisque nous pouvons avoir les données provenant d'un même sujet dans l'ensemble d'entrainement et de test, notre expérience précédente ne respecte pas cette règle.\n",
    "\n",
    "De plus, si vous comparez vos résultats à ceux de vos voisins, vous pourrez probablement constater des différences. Le facteur aléatoire de la fonction `train_test_split()` explique en partie ces différences: vous n'avez pas les même données dans vos ensembles d'entrainement et de tests que vos voisins. Ce facteur aléatoire peut causer des problèmes de reproductibilité. Pour contrôler le facteur aléatoire, nous allons définir une valeur de départ (`np.random.seed`) au générateur de nombre aléatoire et ainsi garantir la reproductibilité de nos résultats!\n",
    "\n",
    "Allons séparer nos données à partir des sujets et en contrôlant le facteur aléatoire:"
   ]
  },
  {
   "cell_type": "code",
   "execution_count": null,
   "id": "f0728bb9-4e4b-4fd2-90c1-212d11f67523",
   "metadata": {
    "tags": []
   },
   "outputs": [],
   "source": [
    "np.random.seed(948)\n",
    "\n",
    "study_subjects = data_merged.subject.unique()\n",
    "train_subjects = np.random.choice(study_subjects, size=int(len(study_subjects) * 0.8), replace=False) #On utilise encore 80% des données dans l'ensemble d'entrainement. Le reste dans l'ensemble de test.\n",
    "test_subjects = np.setdiff1d(study_subjects, train_subjects)\n",
    "\n",
    "#On crée les jeux de données en enlevant la visite, la diet et le numéro du sujet.\n",
    "x_train = data_merged[data_merged[\"subject\"].isin(train_subjects)].drop([\"Visit\", \"Diet\", \"subject\"], axis=1)\n",
    "x_test = data_merged[data_merged[\"subject\"].isin(test_subjects)].drop([\"Visit\", \"Diet\", \"subject\"], axis=1)\n",
    "y_train = data_merged.Diet[data_merged[\"subject\"].isin(train_subjects)] \n",
    "y_test = data_merged.Diet[data_merged[\"subject\"].isin(test_subjects)] "
   ]
  },
  {
   "cell_type": "markdown",
   "id": "42ae1183-a2e4-4b5b-b1f4-4b08c2ebffe2",
   "metadata": {},
   "source": [
    "On pourrait valider la dimension de nos ensembles de données avant d'aller plus loin."
   ]
  },
  {
   "cell_type": "code",
   "execution_count": null,
   "id": "5761c6fc-3c06-4d9d-ac16-435ae1216b7e",
   "metadata": {
    "tags": []
   },
   "outputs": [],
   "source": [
    "#Essayez-le!\n",
    "\n"
   ]
  },
  {
   "cell_type": "code",
   "execution_count": null,
   "id": "59b5245c-68a0-4577-9d86-c9fda12f1361",
   "metadata": {
    "tags": []
   },
   "outputs": [],
   "source": [
    "dt = DecisionTreeClassifier() # On initie un modèle\n",
    "dt = dt.fit(X=x_train, y=y_train)\n",
    "dt_predictions = dt.predict(x_test)\n",
    "print(\"Accuracy score: %s\" %accuracy_score(y_true=y_test, y_pred=dt_predictions))\n",
    "ConfusionMatrixDisplay.from_predictions(y_test, dt_predictions)"
   ]
  },
  {
   "cell_type": "markdown",
   "id": "c623d89b-dc50-4307-ba2d-b2cc4dd27352",
   "metadata": {
    "tags": []
   },
   "source": [
    "La mesure de précision et la matrice de confusion indiquent bien que le modèle performe encore bien après avoir séparé les sujet entre les 2 groupes."
   ]
  },
  {
   "cell_type": "code",
   "execution_count": null,
   "id": "fefb1d05-65fe-4585-9d09-87f041253a80",
   "metadata": {
    "tags": []
   },
   "outputs": [],
   "source": [
    "plot_tree(dt)"
   ]
  },
  {
   "cell_type": "markdown",
   "id": "cd23fda8-d337-416f-8105-66fd01e38292",
   "metadata": {},
   "source": [
    "On peut remarquer que l'arbre est beaucoup plus complexe que celui qui utilisait le numéro de visite pour effectuer la classification. Vous devriez voir ici un arbre ou certaines feuilles contiennent un seul ou deux échantillons. Une séparation pour un très petit nombre d'échantillon a très peu de chance de généraliser. C'est ce qu'on appel du sur-apprentissage. Une autre façon de détecter le sur-apprentissage est de comparer les performances d'un modèle entre son ensemble d'entraînement et son ensemble de test. Si la différence est importante, on peut supposer qu'il y a eu sur-apprentissage."
   ]
  },
  {
   "cell_type": "code",
   "execution_count": null,
   "id": "be92e7b5-fe21-41f8-a2c9-34f56e37493d",
   "metadata": {
    "tags": []
   },
   "outputs": [],
   "source": [
    "print(\"Précision sur l'ensemble d'entrainement: %s\" %accuracy_score(y_true=y_train, y_pred=dt.predict(x_train)))\n",
    "print(\"Précision sur l'ensemble de test: %s\" %accuracy_score(y_true=y_test, y_pred=dt.predict(x_test)))"
   ]
  },
  {
   "cell_type": "markdown",
   "id": "de1a772b-bfbb-427b-b282-c09feeb09791",
   "metadata": {
    "tags": []
   },
   "source": [
    "Notre modèle ne fait pas d'erreur sur l'ensemble d'entrainement et fait 10% d'erreur sur l'ensemble de test. On peut émètre l'hypothèse qu'il y a un léger sur-apprentissage. La structure de l'arbre confirme notre hypothèse: l'arbre a appris \"par coeur\" certains échantillons de l'ensemble d'entrainement. C'est à dire qu'il a trouvé un caractère distinctif d'un échantillon précis. Pour contrôler le sur-apprentissage, on peut moduler les paramètres de constuction du modèle par l'algorithme. On les appelle des hyper-paramètres. Allons essayer de modifier les hyper-paramètres de notre algorithme."
   ]
  },
  {
   "cell_type": "code",
   "execution_count": null,
   "id": "1a6b211e-4b61-4688-ab1d-b949b462cb88",
   "metadata": {
    "tags": []
   },
   "outputs": [],
   "source": [
    "dt = DecisionTreeClassifier(min_samples_leaf=10, max_depth=3, min_impurity_decrease=0.02) # On initie un modèle en déterminant certains hyper-paramètres\n",
    "dt = dt.fit(X=x_train, y=y_train)\n",
    "dt_predictions = dt.predict(x_test)\n",
    "print(\"Accuracy score: %s\" %accuracy_score(y_true=y_test, y_pred=dt_predictions))\n",
    "ConfusionMatrixDisplay.from_predictions(y_test, dt_predictions)"
   ]
  },
  {
   "cell_type": "code",
   "execution_count": null,
   "id": "d4ad93c0-e0d0-4a45-846d-59f036e35c4b",
   "metadata": {
    "tags": []
   },
   "outputs": [],
   "source": [
    "print(\"Précision sur l'ensemble d'entrainement: %s\" %accuracy_score(y_true=y_train, y_pred=dt.predict(x_train)))\n",
    "print(\"Précision sur l'ensemble de test: %s\" %accuracy_score(y_true=y_test, y_pred=dt.predict(x_test)))"
   ]
  },
  {
   "cell_type": "code",
   "execution_count": null,
   "id": "de67754d-807e-4dbc-b226-8dd585c5afdc",
   "metadata": {
    "tags": []
   },
   "outputs": [],
   "source": [
    "plot_tree(dt)"
   ]
  },
  {
   "cell_type": "markdown",
   "id": "70281ed4-d7f8-455f-bc0f-5cd038a93b11",
   "metadata": {
    "tags": []
   },
   "source": [
    "En modifier les hyper-paramètres de l'algorithme, le modèle produit est plus simple. Si l'on compare les performances du modèle entre l'ensemble d'entrainement et l'ensemble de test, elles sont beaucoup plus similaires. En changeant les hyper-paramètres, l'algorithme commence à faire des erreurs de classification sur l'ensemble d'entrainement. C'est domage mais nous augmentons ainsi le potentiel de généralisation de notre modèle.\n",
    "\n",
    "Nous avons sélectionné manuellement les hyper-paramètres de l'algorithme mais il existe différentes façons de les optimiser afin d'obtenir certaines garanties de performance et de généralisation. Certaines de ces méthodes d'optimisation d'hyper-paramètres seront introduites durant la semaine.\n",
    "\n",
    "Jusqu'à maintenant, nous avons utilisé un des algorithme les plus simple, l'arbre de décision. Est-ce que nous pourrions arriver à obtenir des performances supérieure en employant un algorithme produisant des modèles plus complexes? Essayons d'utiliser l'algorithmes de la forêt aléatoire (`RandomForestClassifier`) qui consiste en un ensemble d'arbres de décision, chacun entraîné sur une fraction des données."
   ]
  },
  {
   "cell_type": "code",
   "execution_count": null,
   "id": "2ae0b520-4944-41fb-8285-f0bae7b38058",
   "metadata": {
    "tags": []
   },
   "outputs": [],
   "source": [
    "rf = RandomForestClassifier() # On initie un modèle avec les paramètres par défaut pour commencer.\n",
    "rf = rf.fit(X=x_train, y=y_train)\n",
    "rf_predictions = rf.predict(x_test)\n",
    "print(\"Accuracy score: %s\" %accuracy_score(y_true=y_test, y_pred=rf_predictions))\n",
    "ConfusionMatrixDisplay.from_predictions(y_test, rf_predictions)"
   ]
  },
  {
   "cell_type": "code",
   "execution_count": null,
   "id": "96ca4d1e-28ce-4cea-bde7-a107c6f4b440",
   "metadata": {
    "tags": []
   },
   "outputs": [],
   "source": [
    "print(\"Précision sur l'ensemble d'entrainement: %s\" %accuracy_score(y_true=y_train, y_pred=rf.predict(x_train)))\n",
    "print(\"Précision sur l'ensemble de test: %s\" %accuracy_score(y_true=y_test, y_pred=rf.predict(x_test)))"
   ]
  },
  {
   "cell_type": "markdown",
   "id": "20b6eb2f-f4de-4ac1-bfee-cd32ec6242f8",
   "metadata": {
    "tags": []
   },
   "source": [
    "À partir des résultats de la forêt aléatoire, quelles sont vos conclusions?"
   ]
  },
  {
   "cell_type": "raw",
   "id": "100a49de-d3b2-4b93-90f0-da45f3541f83",
   "metadata": {
    "tags": []
   },
   "source": []
  },
  {
   "cell_type": "markdown",
   "id": "845025f4-64c6-46fb-af74-d468522933b9",
   "metadata": {
    "tags": []
   },
   "source": [
    "# Exercice\n",
    "Modifiez les hyper-paramètres de l'algorithme Random Forest pour essayer d'obtenir un résultat différent. Vous pouvez trouvez la liste des paramètres de l'algorithme en affichant la fiche d'aide dans Jupyter ou en consultant la documentation web de Scikit-learn."
   ]
  },
  {
   "cell_type": "code",
   "execution_count": null,
   "id": "213feb96-6bd6-4227-bbef-5e94f4c10848",
   "metadata": {},
   "outputs": [],
   "source": []
  },
  {
   "cell_type": "code",
   "execution_count": null,
   "id": "58830b9b-0b8b-471e-bdbf-6ee76e944b0f",
   "metadata": {},
   "outputs": [],
   "source": []
  },
  {
   "cell_type": "code",
   "execution_count": null,
   "id": "c5550ff0-f56c-4ed7-b3b0-28767c638983",
   "metadata": {},
   "outputs": [],
   "source": []
  },
  {
   "cell_type": "code",
   "execution_count": null,
   "id": "a32a655f-3fb7-49b6-af95-679bd3b6892a",
   "metadata": {},
   "outputs": [],
   "source": []
  },
  {
   "cell_type": "markdown",
   "id": "76d63721-dc5f-4318-8e62-416fdcc1a457",
   "metadata": {},
   "source": []
  }
 ],
 "metadata": {
  "kernelspec": {
   "display_name": "Python 3 (ipykernel)",
   "language": "python",
   "name": "python3"
  },
  "language_info": {
   "codemirror_mode": {
    "name": "ipython",
    "version": 3
   },
   "file_extension": ".py",
   "mimetype": "text/x-python",
   "name": "python",
   "nbconvert_exporter": "python",
   "pygments_lexer": "ipython3",
   "version": "3.11.4"
  }
 },
 "nbformat": 4,
 "nbformat_minor": 5
}
